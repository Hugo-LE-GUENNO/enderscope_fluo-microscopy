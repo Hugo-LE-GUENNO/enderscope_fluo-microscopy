{
 "cells": [
  {
   "cell_type": "code",
   "execution_count": 1,
   "id": "e2e5fd2b-7641-4353-b02b-0caaaea87655",
   "metadata": {},
   "outputs": [
    {
     "ename": "ModuleNotFoundError",
     "evalue": "No module named 'board'",
     "output_type": "error",
     "traceback": [
      "\u001b[0;31m---------------------------------------------------------------------------\u001b[0m",
      "\u001b[0;31mModuleNotFoundError\u001b[0m                       Traceback (most recent call last)",
      "Cell \u001b[0;32mIn[1], line 3\u001b[0m\n\u001b[1;32m      1\u001b[0m \u001b[38;5;28;01mimport\u001b[39;00m\u001b[38;5;250m \u001b[39m\u001b[38;5;21;01mos\u001b[39;00m\n\u001b[1;32m      2\u001b[0m \u001b[38;5;28;01mimport\u001b[39;00m\u001b[38;5;250m \u001b[39m\u001b[38;5;21;01msys\u001b[39;00m\n\u001b[0;32m----> 3\u001b[0m \u001b[38;5;28;01mimport\u001b[39;00m\u001b[38;5;250m \u001b[39m\u001b[38;5;21;01mboard\u001b[39;00m\n\u001b[1;32m      4\u001b[0m \u001b[38;5;66;03m# Obtenez le répertoire de travail actuel\u001b[39;00m\n\u001b[1;32m      5\u001b[0m script_dir \u001b[38;5;241m=\u001b[39m os\u001b[38;5;241m.\u001b[39mgetcwd()\n",
      "\u001b[0;31mModuleNotFoundError\u001b[0m: No module named 'board'"
     ]
    }
   ],
   "source": [
    "import os\n",
    "import sys\n",
    "import board\n",
    "# Obtenez le répertoire de travail actuel\n",
    "script_dir = os.getcwd()\n",
    "\n",
    "os.chdir(script_dir)\n",
    "print(f\"Dossier de travail défini à : {os.getcwd()}\")\n",
    "# Ajouter le dossier courant au sys.path pour s'assurer que le module est détecté\n",
    "sys.path.append(script_dir)\n",
    "\n",
    "# Importer les classes principales\n",
    "from EnderMain import Panel, Stage\n",
    "from EnderPiCam import EnderPiCam\n",
    "from EnderPiLight import EnderPiLight\n",
    "from EnderAcquisition import EnderAcquisition\n",
    "\n",
    "stago = Stage(port='/dev/ttyUSB1', baud_rate=115200)\n",
    "\n",
    "camera = EnderPiCam(title=\"HQ-CAM\", stage = stago, autofocus=True)\n",
    "light_fluo = EnderPiLight(board_pin=board.D18, total_pixels=9, start_pin=0, end_pin=1, title=\"Light_Fluo\")\n",
    "light_amb = EnderPiLight(board_pin=board.D12, total_pixels=9, start_pin=0, end_pin=9, title=\"Light_Amb\")\n",
    "\n",
    "acqui = EnderAcquisition(stage = stago, camera = camera, title=\"acqui\", lightFluo = light_fluo, lightBF = light_amb)\n",
    "\n",
    "panel = Panel(stago,[camera, light_fluo, light_amb, acqui])\n",
    "\n",
    "panel.display()"
   ]
  },
  {
   "cell_type": "code",
   "execution_count": 6,
   "id": "1909d059-12cd-475d-809a-b6162413bd31",
   "metadata": {},
   "outputs": [
    {
     "data": {
      "text/plain": [
       "(-12.0, 12.0, -29.29)"
      ]
     },
     "execution_count": 6,
     "metadata": {},
     "output_type": "execute_result"
    }
   ],
   "source": [
    "stago.get_position() #quand je tape l'UI ca update pas la position avec getposition"
   ]
  },
  {
   "cell_type": "code",
   "execution_count": 2,
   "id": "c8026eb9-724d-4112-82c3-c81690c63cfb",
   "metadata": {},
   "outputs": [],
   "source": [
    "stago.move_absolute(-109.41, 2.86, -1.62)"
   ]
  },
  {
   "cell_type": "code",
   "execution_count": 7,
   "id": "5ee09dfa-ab66-43fb-ae03-c514483cd59d",
   "metadata": {},
   "outputs": [],
   "source": [
    "stago.temp(28)"
   ]
  },
  {
   "cell_type": "code",
   "execution_count": null,
   "id": "16641ab2-4e73-42a3-b7ac-ace0bab8ed97",
   "metadata": {},
   "outputs": [],
   "source": []
  }
 ],
 "metadata": {
  "kernelspec": {
   "display_name": "work",
   "language": "python",
   "name": "python3"
  },
  "language_info": {
   "codemirror_mode": {
    "name": "ipython",
    "version": 3
   },
   "file_extension": ".py",
   "mimetype": "text/x-python",
   "name": "python",
   "nbconvert_exporter": "python",
   "pygments_lexer": "ipython3",
   "version": "3.13.1"
  }
 },
 "nbformat": 4,
 "nbformat_minor": 5
}
