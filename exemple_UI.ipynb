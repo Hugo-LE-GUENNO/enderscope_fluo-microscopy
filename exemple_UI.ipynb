{
 "cells": [
  {
   "cell_type": "code",
   "execution_count": 1,
   "id": "e2e5fd2b-7641-4353-b02b-0caaaea87655",
   "metadata": {},
   "outputs": [
    {
     "name": "stdout",
     "output_type": "stream",
     "text": [
      "Folder : /home/hleguenno/work/enderscope_fluo-microscopy\n"
     ]
    },
    {
     "ename": "ModuleNotFoundError",
     "evalue": "No module named 'EnderMain'",
     "output_type": "error",
     "traceback": [
      "\u001b[0;31m---------------------------------------------------------------------------\u001b[0m",
      "\u001b[0;31mModuleNotFoundError\u001b[0m                       Traceback (most recent call last)",
      "Cell \u001b[0;32mIn[1], line 10\u001b[0m\n\u001b[1;32m      7\u001b[0m \u001b[38;5;28mprint\u001b[39m(\u001b[38;5;124mf\u001b[39m\u001b[38;5;124m\"\u001b[39m\u001b[38;5;124mFolder : \u001b[39m\u001b[38;5;132;01m{\u001b[39;00mos\u001b[38;5;241m.\u001b[39mgetcwd()\u001b[38;5;132;01m}\u001b[39;00m\u001b[38;5;124m\"\u001b[39m)\n\u001b[1;32m      8\u001b[0m sys\u001b[38;5;241m.\u001b[39mpath\u001b[38;5;241m.\u001b[39mappend(script_dir)\n\u001b[0;32m---> 10\u001b[0m \u001b[38;5;28;01mfrom\u001b[39;00m\u001b[38;5;250m \u001b[39m\u001b[38;5;21;01mEnderMain\u001b[39;00m\u001b[38;5;250m \u001b[39m\u001b[38;5;28;01mimport\u001b[39;00m Panel, Stage\n\u001b[1;32m     11\u001b[0m \u001b[38;5;28;01mfrom\u001b[39;00m\u001b[38;5;250m \u001b[39m\u001b[38;5;21;01mEnderPiCam\u001b[39;00m\u001b[38;5;250m \u001b[39m\u001b[38;5;28;01mimport\u001b[39;00m EnderPiCam\n\u001b[1;32m     12\u001b[0m \u001b[38;5;28;01mfrom\u001b[39;00m\u001b[38;5;250m \u001b[39m\u001b[38;5;21;01mEnderPiLight\u001b[39;00m\u001b[38;5;250m \u001b[39m\u001b[38;5;28;01mimport\u001b[39;00m EnderPiLight\n",
      "\u001b[0;31mModuleNotFoundError\u001b[0m: No module named 'EnderMain'"
     ]
    }
   ],
   "source": [
    "import os\n",
    "import sys\n",
    "import board\n",
    "\n",
    "script_dir = os.getcwd()\n",
    "os.chdir(script_dir)\n",
    "print(f\"Folder : {os.getcwd()}\")\n",
    "sys.path.append(script_dir)\n",
    "\n",
    "from EnderMain import Panel, Stage\n",
    "from EnderPiCam import EnderPiCam\n",
    "from EnderPiLight import EnderPiLight\n",
    "from EnderAcquisition import EnderAcquisition\n",
    "\n",
    "stage = Stage(port='/dev/ttyUSB1', baud_rate=115200)\n",
    "camera = EnderPiCam(title=\"HQ-CAM\", stage = stage, autofocus=True)\n",
    "light_fluo = EnderPiLight(title=\"Light_1\", board_pin=board.D18, total_pixels=9, start_pin=0, end_pin=1)\n",
    "light_amb = EnderPiLight(title=\"Light_2\", board_pin=board.D12, total_pixels=9, start_pin=0, end_pin=9)\n",
    "acqui = EnderAcquisition(title=\"Multi-acquisition\", stage = stage, camera = camera, lightFluo = light_fluo, lightBF = light_amb)\n",
    "\n",
    "panel = Panel(stage,[camera, light_fluo, light_amb, acqui])\n",
    "\n",
    "panel.display()"
   ]
  },
  {
   "cell_type": "code",
   "execution_count": null,
   "id": "1909d059-12cd-475d-809a-b6162413bd31",
   "metadata": {},
   "outputs": [
    {
     "data": {
      "text/plain": [
       "(-12.0, 12.0, -29.29)"
      ]
     },
     "execution_count": 6,
     "metadata": {},
     "output_type": "execute_result"
    }
   ],
   "source": [
    "stage.get_position() #find the absolute position"
   ]
  },
  {
   "cell_type": "code",
   "execution_count": null,
   "id": "c8026eb9-724d-4112-82c3-c81690c63cfb",
   "metadata": {},
   "outputs": [],
   "source": [
    "stage.move_absolute(-109.41, 2.86, -1.62) #go to absolute position (X=-109.41 ; Y=2.86 ; Z=-1.92)"
   ]
  },
  {
   "cell_type": "code",
   "execution_count": 2,
   "id": "5ee09dfa-ab66-43fb-ae03-c514483cd59d",
   "metadata": {},
   "outputs": [
    {
     "ename": "NameError",
     "evalue": "name 'stage' is not defined",
     "output_type": "error",
     "traceback": [
      "\u001b[0;31m---------------------------------------------------------------------------\u001b[0m",
      "\u001b[0;31mNameError\u001b[0m                                 Traceback (most recent call last)",
      "Cell \u001b[0;32mIn[2], line 1\u001b[0m\n\u001b[0;32m----> 1\u001b[0m \u001b[43mstage\u001b[49m\u001b[38;5;241m.\u001b[39mtemp(\u001b[38;5;241m28\u001b[39m) \u001b[38;5;66;03m#Change temperature of the printer plate to 28°C\u001b[39;00m\n",
      "\u001b[0;31mNameError\u001b[0m: name 'stage' is not defined"
     ]
    }
   ],
   "source": [
    "stage.temp(28) #Change temperature of the printer plate to 28°C"
   ]
  },
  {
   "cell_type": "code",
   "execution_count": null,
   "id": "16641ab2-4e73-42a3-b7ac-ace0bab8ed97",
   "metadata": {},
   "outputs": [],
   "source": []
  }
 ],
 "metadata": {
  "kernelspec": {
   "display_name": "enderscope",
   "language": "python",
   "name": "python3"
  },
  "language_info": {
   "codemirror_mode": {
    "name": "ipython",
    "version": 3
   },
   "file_extension": ".py",
   "mimetype": "text/x-python",
   "name": "python",
   "nbconvert_exporter": "python",
   "pygments_lexer": "ipython3",
   "version": "3.13.2"
  }
 },
 "nbformat": 4,
 "nbformat_minor": 5
}
