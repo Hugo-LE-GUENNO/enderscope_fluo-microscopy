{
 "cells": [
  {
   "cell_type": "code",
   "execution_count": 1,
   "id": "61c2b8fd",
   "metadata": {},
   "outputs": [
    {
     "name": "stdout",
     "output_type": "stream",
     "text": [
      "Collecting board\n",
      "  Downloading board-1.0-py2.py3-none-any.whl.metadata (10 kB)\n",
      "Downloading board-1.0-py2.py3-none-any.whl (12 kB)\n",
      "Installing collected packages: board\n",
      "Successfully installed board-1.0\n",
      "Note: you may need to restart the kernel to use updated packages.\n"
     ]
    }
   ],
   "source": [
    "pip install board\n"
   ]
  },
  {
   "cell_type": "code",
   "execution_count": 4,
   "id": "e2e5fd2b-7641-4353-b02b-0caaaea87655",
   "metadata": {},
   "outputs": [
    {
     "ename": "SyntaxError",
     "evalue": "unterminated f-string literal (detected at line 84) (EnderMain.py, line 84)",
     "output_type": "error",
     "traceback": [
      "Traceback \u001b[0;36m(most recent call last)\u001b[0m:\n",
      "\u001b[0m  File \u001b[1;32m~/miniconda3/envs/enderscope/lib/python3.13/site-packages/IPython/core/interactiveshell.py:3579\u001b[0m in \u001b[1;35mrun_code\u001b[0m\n    exec(code_obj, self.user_global_ns, self.user_ns)\u001b[0m\n",
      "\u001b[0;36m  Cell \u001b[0;32mIn[4], line 13\u001b[0;36m\n\u001b[0;31m    from EnderMain import Panel, Stage\u001b[0;36m\n",
      "\u001b[0;36m  File \u001b[0;32m~/work/enderscope_fluo-microscopy/EnderMain.py:84\u001b[0;36m\u001b[0m\n\u001b[0;31m    print(f\"Stage sensitivity set\u001b[0m\n\u001b[0m          ^\u001b[0m\n\u001b[0;31mSyntaxError\u001b[0m\u001b[0;31m:\u001b[0m unterminated f-string literal (detected at line 84)\n"
     ]
    }
   ],
   "source": [
    "import os\n",
    "import sys\n",
    "import board\n",
    "# Obtenez le répertoire de travail actuel\n",
    "#script_dir = os.getcwd()\n",
    "\n",
    "#os.chdir(script_dir)\n",
    "#print(f\"Dossier de travail défini à : {os.getcwd()}\")\n",
    "# Ajouter le dossier courant au sys.path pour s'assurer que le module est détecté\n",
    "#sys.path.append(script_dir)\n",
    "\n",
    "# Importer les classes principales\n",
    "from EnderMain import Panel, Stage\n",
    "from EnderPiCam import EnderPiCam\n",
    "from EnderPiLight import EnderPiLight\n",
    "from EnderAcquisition import EnderAcquisition\n",
    "\n",
    "stago = Stage(port='/dev/ttyUSB1', baud_rate=115200)\n",
    "\n",
    "camera = EnderPiCam(title=\"HQ-CAM\", stage = stago, autofocus=True)\n",
    "light_fluo = EnderPiLight(board_pin=board.D18, total_pixels=9, start_pin=0, end_pin=1, title=\"Light_Fluo\")\n",
    "light_amb = EnderPiLight(board_pin=board.D12, total_pixels=9, start_pin=0, end_pin=9, title=\"Light_Amb\")\n",
    "\n",
    "acqui = EnderAcquisition(stage = stago, camera = camera, title=\"acqui\", lightFluo = light_fluo, lightBF = light_amb)\n",
    "\n",
    "panel = Panel(stago,[camera, light_fluo, light_amb, acqui])\n",
    "\n",
    "panel.display()"
   ]
  },
  {
   "cell_type": "code",
   "execution_count": 6,
   "id": "1909d059-12cd-475d-809a-b6162413bd31",
   "metadata": {},
   "outputs": [
    {
     "data": {
      "text/plain": [
       "(-12.0, 12.0, -29.29)"
      ]
     },
     "execution_count": 6,
     "metadata": {},
     "output_type": "execute_result"
    }
   ],
   "source": [
    "stago.get_position() #quand je tape l'UI ca update pas la position avec getposition"
   ]
  },
  {
   "cell_type": "code",
   "execution_count": 2,
   "id": "c8026eb9-724d-4112-82c3-c81690c63cfb",
   "metadata": {},
   "outputs": [],
   "source": [
    "stago.move_absolute(-109.41, 2.86, -1.62)"
   ]
  },
  {
   "cell_type": "code",
   "execution_count": 7,
   "id": "5ee09dfa-ab66-43fb-ae03-c514483cd59d",
   "metadata": {},
   "outputs": [],
   "source": [
    "stago.temp(28)"
   ]
  },
  {
   "cell_type": "code",
   "execution_count": null,
   "id": "16641ab2-4e73-42a3-b7ac-ace0bab8ed97",
   "metadata": {},
   "outputs": [],
   "source": []
  }
 ],
 "metadata": {
  "kernelspec": {
   "display_name": "enderscope",
   "language": "python",
   "name": "python3"
  },
  "language_info": {
   "codemirror_mode": {
    "name": "ipython",
    "version": 3
   },
   "file_extension": ".py",
   "mimetype": "text/x-python",
   "name": "python",
   "nbconvert_exporter": "python",
   "pygments_lexer": "ipython3",
   "version": "3.13.2"
  }
 },
 "nbformat": 4,
 "nbformat_minor": 5
}
